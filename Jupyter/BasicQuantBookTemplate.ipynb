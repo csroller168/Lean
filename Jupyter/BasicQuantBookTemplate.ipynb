{
 "cells": [
  {
   "cell_type": "markdown",
   "metadata": {},
   "source": [
    "![QuantConnect Logo](https://cdn.quantconnect.com/web/i/logo-small.png)\n",
    "## Welcome to The QuantConnect Research Page\n",
    "#### Refer to this page for documentation https://www.quantconnect.com/docs#Notebooks\n",
    "#### Contribute to this template file https://github.com/QuantConnect/Lean/blob/master/Jupyter/BasicQuantBookTemplate.ipynb"
   ]
  },
  {
   "cell_type": "markdown",
   "metadata": {
    "collapsed": true
   },
   "source": [
    "## QuantBook Basics\n",
    "\n",
    "### Start QuantBook\n",
    "- Add the references and imports\n",
    "- Create a QuantBook instance"
   ]
  },
  {
   "cell_type": "code",
   "execution_count": 1,
   "metadata": {
    "collapsed": true
   },
   "outputs": [],
   "source": [
    "%matplotlib inline\n",
    "# Imports\n",
    "from clr import AddReference\n",
    "AddReference(\"System\")\n",
    "AddReference(\"QuantConnect.Common\")\n",
    "AddReference(\"QuantConnect.Jupyter\")\n",
    "from QuantConnect import *\n",
    "from QuantConnect.Jupyter import *\n",
    "from datetime import datetime\n",
    "import matplotlib.pyplot as plt\n",
    "\n",
    "# Create an instance\n",
    "qb = QuantBook()"
   ]
  },
  {
   "cell_type": "markdown",
   "metadata": {
    "collapsed": true
   },
   "source": [
    "### Get information about symbol"
   ]
  },
  {
   "cell_type": "code",
   "execution_count": 2,
   "metadata": {},
   "outputs": [
    {
     "data": {
      "text/html": [
       "<div>\n",
       "<style>\n",
       "    .dataframe thead tr:only-child th {\n",
       "        text-align: right;\n",
       "    }\n",
       "\n",
       "    .dataframe thead th {\n",
       "        text-align: left;\n",
       "    }\n",
       "\n",
       "    .dataframe tbody tr th {\n",
       "        vertical-align: top;\n",
       "    }\n",
       "</style>\n",
       "<table border=\"1\" class=\"dataframe\">\n",
       "  <thead>\n",
       "    <tr style=\"text-align: right;\">\n",
       "      <th></th>\n",
       "      <th>Value</th>\n",
       "      <th>Asset Type</th>\n",
       "      <th>Market</th>\n",
       "      <th>Start Date</th>\n",
       "    </tr>\n",
       "  </thead>\n",
       "  <tbody>\n",
       "    <tr>\n",
       "      <th>SPY 2T</th>\n",
       "      <td>SPY</td>\n",
       "      <td>Equity</td>\n",
       "      <td>usa</td>\n",
       "      <td>12/30/1899</td>\n",
       "    </tr>\n",
       "    <tr>\n",
       "      <th>EURUSD 5O</th>\n",
       "      <td>EURUSD</td>\n",
       "      <td>Forex</td>\n",
       "      <td>fxcm</td>\n",
       "      <td>None</td>\n",
       "    </tr>\n",
       "    <tr>\n",
       "      <th>EURUSD 8G</th>\n",
       "      <td>EURUSD</td>\n",
       "      <td>Forex</td>\n",
       "      <td>oanda</td>\n",
       "      <td>None</td>\n",
       "    </tr>\n",
       "  </tbody>\n",
       "</table>\n",
       "</div>"
      ],
      "text/plain": [
       "            Value Asset Type Market  Start Date\n",
       "SPY 2T        SPY     Equity    usa  12/30/1899\n",
       "EURUSD 5O  EURUSD      Forex   fxcm        None\n",
       "EURUSD 8G  EURUSD      Forex  oanda        None"
      ]
     },
     "execution_count": 2,
     "metadata": {},
     "output_type": "execute_result"
    }
   ],
   "source": [
    "spy = qb.GetSymbol(\"SPY\")\n",
    "eur = qb.GetSymbol(\"EURUSD\", \"forex\")\n",
    "euro = qb.GetSymbol(\"EURUSD\", \"forex\", \"oanda\")\n",
    "qb.PrintSymbols([spy, eur, euro])\n",
    "# or qb.PrintSymbols([\"SPY\", eur, euro])"
   ]
  },
  {
   "cell_type": "markdown",
   "metadata": {},
   "source": [
    "### Get Price History\n",
    "\n",
    "- *History([symbol], start_date = datetime(1998,1,1), end_date = datetime.now(), resolution = Resolution.Daily, selector = null)*\n",
    "- *History([symbol], span, resolution = Resolution.Daily, selector = null)*\n",
    "- *History([symbol], periods, resolution = Resolution.Daily, selector = null)*\n",
    "\n",
    "We will get a pandas.DataFrame with OHLCV information.\n",
    "\n",
    "The lookback period can be controlled with a timedelta or a integer. It refers to *datetime.now()*:"
   ]
  },
  {
   "cell_type": "code",
   "execution_count": 3,
   "metadata": {
    "scrolled": true
   },
   "outputs": [
    {
     "data": {
      "text/html": [
       "<div>\n",
       "<style>\n",
       "    .dataframe thead tr:only-child th {\n",
       "        text-align: right;\n",
       "    }\n",
       "\n",
       "    .dataframe thead th {\n",
       "        text-align: left;\n",
       "    }\n",
       "\n",
       "    .dataframe tbody tr th {\n",
       "        vertical-align: top;\n",
       "    }\n",
       "</style>\n",
       "<table border=\"1\" class=\"dataframe\">\n",
       "  <thead>\n",
       "    <tr style=\"text-align: right;\">\n",
       "      <th></th>\n",
       "      <th>Open</th>\n",
       "      <th>High</th>\n",
       "      <th>Low</th>\n",
       "      <th>Close</th>\n",
       "    </tr>\n",
       "  </thead>\n",
       "  <tbody>\n",
       "    <tr>\n",
       "      <th>2007-03-30</th>\n",
       "      <td>1.33145</td>\n",
       "      <td>1.34005</td>\n",
       "      <td>1.32880</td>\n",
       "      <td>1.33580</td>\n",
       "    </tr>\n",
       "    <tr>\n",
       "      <th>2007-04-01</th>\n",
       "      <td>1.33740</td>\n",
       "      <td>1.33770</td>\n",
       "      <td>1.33325</td>\n",
       "      <td>1.33500</td>\n",
       "    </tr>\n",
       "    <tr>\n",
       "      <th>2007-04-02</th>\n",
       "      <td>1.33495</td>\n",
       "      <td>1.33835</td>\n",
       "      <td>1.33465</td>\n",
       "      <td>1.33660</td>\n",
       "    </tr>\n",
       "    <tr>\n",
       "      <th>2007-04-03</th>\n",
       "      <td>1.33670</td>\n",
       "      <td>1.33750</td>\n",
       "      <td>1.33185</td>\n",
       "      <td>1.33530</td>\n",
       "    </tr>\n",
       "    <tr>\n",
       "      <th>2007-04-04</th>\n",
       "      <td>1.33525</td>\n",
       "      <td>1.33810</td>\n",
       "      <td>1.33375</td>\n",
       "      <td>1.33665</td>\n",
       "    </tr>\n",
       "    <tr>\n",
       "      <th>2007-04-05</th>\n",
       "      <td>1.33655</td>\n",
       "      <td>1.34420</td>\n",
       "      <td>1.33590</td>\n",
       "      <td>1.34195</td>\n",
       "    </tr>\n",
       "    <tr>\n",
       "      <th>2007-04-06</th>\n",
       "      <td>1.34200</td>\n",
       "      <td>1.34295</td>\n",
       "      <td>1.33645</td>\n",
       "      <td>1.33745</td>\n",
       "    </tr>\n",
       "    <tr>\n",
       "      <th>2007-04-08</th>\n",
       "      <td>1.33765</td>\n",
       "      <td>1.33800</td>\n",
       "      <td>1.33545</td>\n",
       "      <td>1.33745</td>\n",
       "    </tr>\n",
       "    <tr>\n",
       "      <th>2007-04-09</th>\n",
       "      <td>1.33755</td>\n",
       "      <td>1.34345</td>\n",
       "      <td>1.33405</td>\n",
       "      <td>1.34085</td>\n",
       "    </tr>\n",
       "    <tr>\n",
       "      <th>2007-04-10</th>\n",
       "      <td>1.34090</td>\n",
       "      <td>1.34555</td>\n",
       "      <td>1.34065</td>\n",
       "      <td>1.34280</td>\n",
       "    </tr>\n",
       "  </tbody>\n",
       "</table>\n",
       "</div>"
      ],
      "text/plain": [
       "               Open     High      Low    Close\n",
       "2007-03-30  1.33145  1.34005  1.32880  1.33580\n",
       "2007-04-01  1.33740  1.33770  1.33325  1.33500\n",
       "2007-04-02  1.33495  1.33835  1.33465  1.33660\n",
       "2007-04-03  1.33670  1.33750  1.33185  1.33530\n",
       "2007-04-04  1.33525  1.33810  1.33375  1.33665\n",
       "2007-04-05  1.33655  1.34420  1.33590  1.34195\n",
       "2007-04-06  1.34200  1.34295  1.33645  1.33745\n",
       "2007-04-08  1.33765  1.33800  1.33545  1.33745\n",
       "2007-04-09  1.33755  1.34345  1.33405  1.34085\n",
       "2007-04-10  1.34090  1.34555  1.34065  1.34280"
      ]
     },
     "execution_count": 3,
     "metadata": {},
     "output_type": "execute_result"
    }
   ],
   "source": [
    "history = qb.History([eur])\n",
    "history.head(10)"
   ]
  },
  {
   "cell_type": "code",
   "execution_count": 4,
   "metadata": {},
   "outputs": [
    {
     "data": {
      "text/html": [
       "<div>\n",
       "<style>\n",
       "    .dataframe thead tr:only-child th {\n",
       "        text-align: right;\n",
       "    }\n",
       "\n",
       "    .dataframe thead th {\n",
       "        text-align: left;\n",
       "    }\n",
       "\n",
       "    .dataframe tbody tr th {\n",
       "        vertical-align: top;\n",
       "    }\n",
       "</style>\n",
       "<table border=\"1\" class=\"dataframe\">\n",
       "  <thead>\n",
       "    <tr style=\"text-align: right;\">\n",
       "      <th></th>\n",
       "      <th>Open</th>\n",
       "      <th>High</th>\n",
       "      <th>Low</th>\n",
       "      <th>Close</th>\n",
       "      <th>Volume</th>\n",
       "    </tr>\n",
       "  </thead>\n",
       "  <tbody>\n",
       "    <tr>\n",
       "      <th>2017-08-04</th>\n",
       "      <td>247.52</td>\n",
       "      <td>247.79</td>\n",
       "      <td>246.970</td>\n",
       "      <td>247.40</td>\n",
       "      <td>32304055.0</td>\n",
       "    </tr>\n",
       "    <tr>\n",
       "      <th>2017-08-07</th>\n",
       "      <td>247.49</td>\n",
       "      <td>247.87</td>\n",
       "      <td>247.370</td>\n",
       "      <td>247.85</td>\n",
       "      <td>17136662.0</td>\n",
       "    </tr>\n",
       "    <tr>\n",
       "      <th>2017-08-08</th>\n",
       "      <td>247.53</td>\n",
       "      <td>248.91</td>\n",
       "      <td>246.830</td>\n",
       "      <td>247.30</td>\n",
       "      <td>35873579.0</td>\n",
       "    </tr>\n",
       "    <tr>\n",
       "      <th>2017-08-09</th>\n",
       "      <td>246.47</td>\n",
       "      <td>247.31</td>\n",
       "      <td>246.060</td>\n",
       "      <td>247.23</td>\n",
       "      <td>40471979.0</td>\n",
       "    </tr>\n",
       "    <tr>\n",
       "      <th>2017-08-10</th>\n",
       "      <td>246.28</td>\n",
       "      <td>246.44</td>\n",
       "      <td>243.700</td>\n",
       "      <td>243.79</td>\n",
       "      <td>74862517.0</td>\n",
       "    </tr>\n",
       "    <tr>\n",
       "      <th>2017-08-11</th>\n",
       "      <td>244.02</td>\n",
       "      <td>244.80</td>\n",
       "      <td>243.750</td>\n",
       "      <td>244.11</td>\n",
       "      <td>47668256.0</td>\n",
       "    </tr>\n",
       "    <tr>\n",
       "      <th>2017-08-14</th>\n",
       "      <td>245.59</td>\n",
       "      <td>246.79</td>\n",
       "      <td>245.550</td>\n",
       "      <td>246.52</td>\n",
       "      <td>42665385.0</td>\n",
       "    </tr>\n",
       "    <tr>\n",
       "      <th>2017-08-15</th>\n",
       "      <td>246.98</td>\n",
       "      <td>247.00</td>\n",
       "      <td>246.155</td>\n",
       "      <td>246.53</td>\n",
       "      <td>30187918.0</td>\n",
       "    </tr>\n",
       "    <tr>\n",
       "      <th>2017-08-16</th>\n",
       "      <td>247.11</td>\n",
       "      <td>247.57</td>\n",
       "      <td>246.450</td>\n",
       "      <td>246.92</td>\n",
       "      <td>37544923.0</td>\n",
       "    </tr>\n",
       "  </tbody>\n",
       "</table>\n",
       "</div>"
      ],
      "text/plain": [
       "              Open    High      Low   Close      Volume\n",
       "2017-08-04  247.52  247.79  246.970  247.40  32304055.0\n",
       "2017-08-07  247.49  247.87  247.370  247.85  17136662.0\n",
       "2017-08-08  247.53  248.91  246.830  247.30  35873579.0\n",
       "2017-08-09  246.47  247.31  246.060  247.23  40471979.0\n",
       "2017-08-10  246.28  246.44  243.700  243.79  74862517.0\n",
       "2017-08-11  244.02  244.80  243.750  244.11  47668256.0\n",
       "2017-08-14  245.59  246.79  245.550  246.52  42665385.0\n",
       "2017-08-15  246.98  247.00  246.155  246.53  30187918.0\n",
       "2017-08-16  247.11  247.57  246.450  246.92  37544923.0"
      ]
     },
     "execution_count": 4,
     "metadata": {},
     "output_type": "execute_result"
    }
   ],
   "source": [
    "from datetime import timedelta\n",
    "qb.History([\"SPY\"], timedelta(hours = 300))   # 300 hours"
   ]
  },
  {
   "cell_type": "code",
   "execution_count": 5,
   "metadata": {},
   "outputs": [
    {
     "data": {
      "text/html": [
       "<div>\n",
       "<style>\n",
       "    .dataframe thead tr:only-child th {\n",
       "        text-align: right;\n",
       "    }\n",
       "\n",
       "    .dataframe thead th {\n",
       "        text-align: left;\n",
       "    }\n",
       "\n",
       "    .dataframe tbody tr th {\n",
       "        vertical-align: top;\n",
       "    }\n",
       "</style>\n",
       "<table border=\"1\" class=\"dataframe\">\n",
       "  <thead>\n",
       "    <tr style=\"text-align: right;\">\n",
       "      <th></th>\n",
       "      <th>Open</th>\n",
       "      <th>High</th>\n",
       "      <th>Low</th>\n",
       "      <th>Close</th>\n",
       "      <th>Volume</th>\n",
       "    </tr>\n",
       "  </thead>\n",
       "  <tbody>\n",
       "    <tr>\n",
       "      <th>2017-08-07</th>\n",
       "      <td>247.49</td>\n",
       "      <td>247.87</td>\n",
       "      <td>247.370</td>\n",
       "      <td>247.85</td>\n",
       "      <td>17136662.0</td>\n",
       "    </tr>\n",
       "    <tr>\n",
       "      <th>2017-08-08</th>\n",
       "      <td>247.53</td>\n",
       "      <td>248.91</td>\n",
       "      <td>246.830</td>\n",
       "      <td>247.30</td>\n",
       "      <td>35873579.0</td>\n",
       "    </tr>\n",
       "    <tr>\n",
       "      <th>2017-08-09</th>\n",
       "      <td>246.47</td>\n",
       "      <td>247.31</td>\n",
       "      <td>246.060</td>\n",
       "      <td>247.23</td>\n",
       "      <td>40471979.0</td>\n",
       "    </tr>\n",
       "    <tr>\n",
       "      <th>2017-08-10</th>\n",
       "      <td>246.28</td>\n",
       "      <td>246.44</td>\n",
       "      <td>243.700</td>\n",
       "      <td>243.79</td>\n",
       "      <td>74862517.0</td>\n",
       "    </tr>\n",
       "    <tr>\n",
       "      <th>2017-08-11</th>\n",
       "      <td>244.02</td>\n",
       "      <td>244.80</td>\n",
       "      <td>243.750</td>\n",
       "      <td>244.11</td>\n",
       "      <td>47668256.0</td>\n",
       "    </tr>\n",
       "    <tr>\n",
       "      <th>2017-08-14</th>\n",
       "      <td>245.59</td>\n",
       "      <td>246.79</td>\n",
       "      <td>245.550</td>\n",
       "      <td>246.52</td>\n",
       "      <td>42665385.0</td>\n",
       "    </tr>\n",
       "    <tr>\n",
       "      <th>2017-08-15</th>\n",
       "      <td>246.98</td>\n",
       "      <td>247.00</td>\n",
       "      <td>246.155</td>\n",
       "      <td>246.53</td>\n",
       "      <td>30187918.0</td>\n",
       "    </tr>\n",
       "    <tr>\n",
       "      <th>2017-08-16</th>\n",
       "      <td>247.11</td>\n",
       "      <td>247.57</td>\n",
       "      <td>246.450</td>\n",
       "      <td>246.92</td>\n",
       "      <td>37544923.0</td>\n",
       "    </tr>\n",
       "  </tbody>\n",
       "</table>\n",
       "</div>"
      ],
      "text/plain": [
       "              Open    High      Low   Close      Volume\n",
       "2017-08-07  247.49  247.87  247.370  247.85  17136662.0\n",
       "2017-08-08  247.53  248.91  246.830  247.30  35873579.0\n",
       "2017-08-09  246.47  247.31  246.060  247.23  40471979.0\n",
       "2017-08-10  246.28  246.44  243.700  243.79  74862517.0\n",
       "2017-08-11  244.02  244.80  243.750  244.11  47668256.0\n",
       "2017-08-14  245.59  246.79  245.550  246.52  42665385.0\n",
       "2017-08-15  246.98  247.00  246.155  246.53  30187918.0\n",
       "2017-08-16  247.11  247.57  246.450  246.92  37544923.0"
      ]
     },
     "execution_count": 5,
     "metadata": {},
     "output_type": "execute_result"
    }
   ],
   "source": [
    "qb.History([\"SPY\"], 10)   # 10 days, since resolution is daily"
   ]
  },
  {
   "cell_type": "markdown",
   "metadata": {},
   "source": [
    "- History from two or more symbol\n",
    "\n",
    "We will get a pandas.DataFrame with OHLCV information. With more than one symbol, there is top level columns that identifies the symbol."
   ]
  },
  {
   "cell_type": "code",
   "execution_count": null,
   "metadata": {
    "collapsed": true,
    "scrolled": false
   },
   "outputs": [],
   "source": [
    "gld = qb.GetSymbol(\"GLD\")\n",
    "glx = qb.GetSymbol(\"GLX\")\n",
    "gold = qb.History([gld, glx])\n",
    "# or gold = qb.History([\"GLD\", \"GLX\"])\n",
    "gold.tail(10)"
   ]
  },
  {
   "cell_type": "markdown",
   "metadata": {},
   "source": [
    "- History from two or more symbol and specific field\n",
    "\n",
    "We will get a pandas.DataFrame with OHLCV information."
   ]
  },
  {
   "cell_type": "code",
   "execution_count": null,
   "metadata": {
    "collapsed": true
   },
   "outputs": [],
   "source": [
    "gold_close = qb.History([\"GLD\", \"GLX\"], None, None, Resolution.Daily, Field.Close)\n",
    "gold_close.tail(10)"
   ]
  },
  {
   "cell_type": "markdown",
   "metadata": {},
   "source": [
    "### Plot the output\n",
    "Plot the values directly using pandas.DataFrame.plot()"
   ]
  },
  {
   "cell_type": "code",
   "execution_count": null,
   "metadata": {
    "collapsed": true
   },
   "outputs": [],
   "source": [
    "gold_close.plot()"
   ]
  },
  {
   "cell_type": "markdown",
   "metadata": {},
   "source": [
    "### Get Fundamental Data\n",
    "\n",
    "- *GetFundamental([symbol], selector, start_date = datetime(1998,1,1), end_date = datetime.now())*\n",
    "\n",
    "We will get a pandas.DataFrame with fundamental data."
   ]
  },
  {
   "cell_type": "code",
   "execution_count": null,
   "metadata": {
    "collapsed": true
   },
   "outputs": [],
   "source": [
    "data = qb.GetFundamental([\"AAPL\",\"AIG\",\"BAC\",\"GOOG\",\"IBM\"], \"ValuationRatios.PERatio\")"
   ]
  },
  {
   "cell_type": "code",
   "execution_count": null,
   "metadata": {
    "collapsed": true
   },
   "outputs": [],
   "source": []
  }
 ],
 "metadata": {
  "kernelspec": {
   "display_name": "Python 2",
   "language": "python",
   "name": "python2"
  },
  "language_info": {
   "codemirror_mode": {
    "name": "ipython",
    "version": 2
   },
   "file_extension": ".py",
   "mimetype": "text/x-python",
   "name": "python",
   "nbconvert_exporter": "python",
   "pygments_lexer": "ipython2",
   "version": "2.7.12"
  }
 },
 "nbformat": 4,
 "nbformat_minor": 2
}
